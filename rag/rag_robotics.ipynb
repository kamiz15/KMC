{
 "cells": [
  {
   "cell_type": "code",
   "execution_count": 2,
   "id": "78ff3eac-26d7-44ec-9624-eafd1778f50f",
   "metadata": {},
   "outputs": [],
   "source": [
    "import os\n",
    "from langchain.prompts import ChatPromptTemplate\n",
    "from langchain.schema import Document\n",
    "from langchain.text_splitter import RecursiveCharacterTextSplitter\n",
    "from langchain.vectorstores import FAISS\n",
    "# from langchain.embeddings import OpenAIEmbeddings\n",
    "from langchain_openai import ChatOpenAI, OpenAIEmbeddings\n",
    "from langchain.document_loaders import PyPDFLoader\n",
    "from langchain_community.vectorstores import Chroma"
   ]
  },
  {
   "cell_type": "code",
   "execution_count": 3,
   "id": "abc060e8-0d7e-4f0d-bd5e-009ec9ca3d52",
   "metadata": {},
   "outputs": [],
   "source": [
    "os.environ['LANGCHAIN_TRACING_V2'] = 'true'\n",
    "os.environ['LANGCHAIN_ENDPOINT'] = 'https://api.smith.langchain.com'\n",
    "os.environ['LANGCHAIN_API_KEY'] = 'langchain_api_key'"
   ]
  },
  {
   "cell_type": "code",
   "execution_count": 4,
   "id": "edfcb4b8-157f-4227-8b8e-59e086d43323",
   "metadata": {},
   "outputs": [],
   "source": [
    "os.environ['OPENAI_API_KEY'] = 'model_api_key' "
   ]
  },
  {
   "cell_type": "code",
   "execution_count": 5,
   "id": "d27ef65d-227c-4900-9a7c-dbd396f6e479",
   "metadata": {},
   "outputs": [],
   "source": [
    "llm = ChatOpenAI(model_name=\"gpt-4o-mini\", temperature=0)"
   ]
  },
  {
   "cell_type": "code",
   "execution_count": 6,
   "id": "36d46796-c12d-45bf-9daf-00d7fe382320",
   "metadata": {},
   "outputs": [],
   "source": [
    "# Load Documents\n",
    "pdf_path = \"/home/qasob/knowledge_model_composition/data/Book_Introduction to Robotics _JJ_Craig.pdf\"\n",
    "loader = PyPDFLoader(pdf_path)\n",
    "docs = loader.load()"
   ]
  },
  {
   "cell_type": "code",
   "execution_count": 7,
   "id": "d7956e5b-e6e3-4cba-8737-401788b7e6f6",
   "metadata": {},
   "outputs": [],
   "source": [
    "template_expand = \"\"\"You are an AI language model assistant. Your task is to generate three \n",
    "different versions of the given user question to retrieve relevant documents from a vector \n",
    "database. By generating multiple perspectives on the user question, your goal is to help\n",
    "the user overcome some of the limitations of the distance-based similarity search. \n",
    "Provide these alternative questions separated by newlines. Original question: {question}\n",
    "\"\"\"\n",
    "\n",
    "\n",
    "prompt_expand = ChatPromptTemplate.from_template(template_expand)"
   ]
  },
  {
   "cell_type": "code",
   "execution_count": 8,
   "id": "18ba1895-13ef-42ee-b73f-08c02b1ad800",
   "metadata": {},
   "outputs": [],
   "source": [
    "template_robotics = \"\"\"You are a robotics tutor helping students understand concepts from robotics textbooks.  \n",
    "Use ONLY the provided context to answer the question.  \n",
    "If the context does not contain the answer, say: \"The context does not provide enough information.\"\n",
    "\n",
    "### Context:\n",
    "{context}\n",
    "\n",
    "### Question:\n",
    "{question}\n",
    "\n",
    "### Instructions:\n",
    "- Base your answer ONLY on the given context (do not use outside knowledge).\n",
    "- Provide a clear, concise explanation suitable for a student.\n",
    "- If relevant, reference the part of the context you used (e.g., section or formula).\n",
    "- Avoid adding information not supported by the context.\n",
    "\n",
    "### Answer:\n",
    "\"\"\"\n",
    "\n",
    "prompt_robotics = ChatPromptTemplate.from_template(template_robotics)"
   ]
  },
  {
   "cell_type": "code",
   "execution_count": 9,
   "id": "fbe1dbe8-9f2e-42fc-83cd-5deca4cb74cc",
   "metadata": {},
   "outputs": [],
   "source": [
    "# Split\n",
    "text_splitter = RecursiveCharacterTextSplitter(chunk_size=1000, chunk_overlap=200)\n",
    "splits = text_splitter.split_documents(docs)\n",
    "\n",
    "# Embed\n",
    "vectorstore = Chroma.from_documents(documents=splits, \n",
    "                                    embedding=OpenAIEmbeddings())\n",
    "\n",
    "retriever = vectorstore.as_retriever()"
   ]
  },
  {
   "cell_type": "code",
   "execution_count": null,
   "id": "fe3d25de-e9b5-40a9-88f0-a0c0ccdb9b5e",
   "metadata": {},
   "outputs": [],
   "source": []
  },
  {
   "cell_type": "code",
   "execution_count": 10,
   "id": "a31b38a0-9fc5-4391-9ea3-45f6bd944693",
   "metadata": {},
   "outputs": [],
   "source": [
    "def rag_pipeline(user_question):\n",
    "    expanded = (prompt_expand | llm).invoke({\"question\": user_question}).content\n",
    "    queries = [q.strip() for q in expanded.split(\"\\n\") if q.strip()]\n",
    "\n",
    "    answers = []\n",
    "\n",
    "    # For each expanded query → retrieve context → answer\n",
    "    for q in queries:\n",
    "        docs = retriever.get_relevant_documents(q)\n",
    "        context = \"\\n\\n\".join([d.page_content for d in docs])\n",
    "        response = (prompt_robotics | llm).invoke({\"context\": context, \"question\": q}).content\n",
    "        answers.append(response)\n",
    "\n",
    "    # Combine answers by uniqueness \n",
    "    merge_prompt = ChatPromptTemplate.from_template(\"\"\"\n",
    "Combine the following answers into a single coherent explanation. \n",
    "Remove duplicates, keep unique insights, and ensure the result is clear and comprehensive.\n",
    "\n",
    "Answers:\n",
    "{answers}\n",
    "\n",
    "Final Answer:\n",
    "\"\"\")\n",
    "\n",
    "    final_answer = (merge_prompt | llm).invoke({\"answers\": \"\\n\\n\".join(answers)}).content\n",
    "    return final_answer"
   ]
  },
  {
   "cell_type": "code",
   "execution_count": 12,
   "id": "8aa69dc5-8e71-414c-9241-7a00991e00d4",
   "metadata": {},
   "outputs": [
    {
     "name": "stdout",
     "output_type": "stream",
     "text": [
      "The term \"kinematic\" in physics refers to the science of motion, focusing on the study of position, velocity, acceleration, and higher order derivatives of motion without considering the forces that cause it. In robotics, particularly in the study of manipulators, kinematics emphasizes the geometrical and time-based properties of motion. This includes understanding how manipulators move and position themselves in space, which is crucial for tasks such as static positioning.\n",
      "\n",
      "Kinematics is foundational for designing and controlling robotic systems, as it defines the relationships between different motions. It is essential to grasp kinematics before delving into dynamics, which involves the forces and torques that cause motion. Key principles of kinematic motion include the analysis of position, velocity, acceleration, and the relationships among these variables over time.\n",
      "\n",
      "In the context of manipulators, kinematics involves understanding how nearly rigid links are connected by joints that allow relative motion. These joints can be rotary (revolute) or sliding (prismatic), and the relative displacements are typically measured using position sensors. The number of degrees of freedom of a manipulator is defined as the number of independent position variables required to specify its location.\n",
      "\n",
      "Applications of kinematic motion in robotics include static positioning of manipulators and the study of velocities and static forces. The principles of kinematics are crucial for understanding the motion of robotic systems and serve as a foundation for further studies in dynamics and control of manipulators.\n"
     ]
    }
   ],
   "source": [
    "result = rag_pipeline(\"What is kinematic?\")\n",
    "print(result)"
   ]
  }
 ],
 "metadata": {
  "kernelspec": {
   "display_name": "Python (RAG Env)",
   "language": "python",
   "name": "my_venv_name"
  },
  "language_info": {
   "codemirror_mode": {
    "name": "ipython",
    "version": 3
   },
   "file_extension": ".py",
   "mimetype": "text/x-python",
   "name": "python",
   "nbconvert_exporter": "python",
   "pygments_lexer": "ipython3",
   "version": "3.10.12"
  }
 },
 "nbformat": 4,
 "nbformat_minor": 5
}
