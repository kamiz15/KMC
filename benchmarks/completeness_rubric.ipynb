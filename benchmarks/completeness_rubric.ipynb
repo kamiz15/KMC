{
 "cells": [
  {
   "cell_type": "code",
   "execution_count": 23,
   "id": "014554f5-68a6-4c94-9683-7db8afc7b85c",
   "metadata": {},
   "outputs": [],
   "source": [
    "from langchain.prompts import PromptTemplate\n",
    "from langchain_openai import ChatOpenAI\n",
    "from langchain.chains import LLMChain"
   ]
  },
  {
   "cell_type": "code",
   "execution_count": 24,
   "id": "a89693d2-65b7-4547-a539-43c3f4db9325",
   "metadata": {},
   "outputs": [],
   "source": [
    "import os\n",
    "os.environ['LANGCHAIN_TRACING_V2'] = 'true'\n",
    "os.environ['LANGCHAIN_ENDPOINT'] = 'https://api.smith.langchain.com'\n",
    "os.environ['LANGCHAIN_API_KEY'] = 'langchain_api_key'"
   ]
  },
  {
   "cell_type": "code",
   "execution_count": 25,
   "id": "c1a304f0-70ee-47ee-a9c5-8374680003ff",
   "metadata": {},
   "outputs": [],
   "source": [
    "os.environ['OPENAI_API_KEY'] = 'model_api_key'"
   ]
  },
  {
   "cell_type": "code",
   "execution_count": 41,
   "id": "306ce480-e8a3-416e-b61b-2dfca9774065",
   "metadata": {},
   "outputs": [],
   "source": [
    "llm = ChatOpenAI(model_name=\"gpt-4o-mini\", temperature=0)"
   ]
  },
  {
   "cell_type": "code",
   "execution_count": 42,
   "id": "99077852-760d-4034-8d8b-777414e0f2bb",
   "metadata": {},
   "outputs": [],
   "source": [
    "prompt_template = PromptTemplate(\n",
    "    input_variables=[\"source\", \"answer\"],\n",
    "    template=\"\"\"\n",
    "You are an evaluator for a knowledge model. \n",
    "Your task is to assess the COMPLETENESS of the provided ANSWER in relation to the SOURCE text.\n",
    "\n",
    "SOURCE:\n",
    "{source}\n",
    "\n",
    "ANSWER:\n",
    "{answer}\n",
    "\n",
    "### Evaluation Criteria:\n",
    "Determine how well the ANSWER covers all important information from the SOURCE. \n",
    "Consider whether it includes key facts, context, and relevant details. Give a score from 1 to 5 and briefly justify.\n",
    "\n",
    "### Scoring Guidelines:\n",
    "- **1 – Very Incomplete**: Minimal response, missing most key information from the source.  \n",
    "- **2 – Somewhat Incomplete**: Contains some relevant information but omits MOST important details, context, or clarity.  \n",
    "- **3 – Moderately Complete**: Covers a fair portion of the important information but misses a FEW significant points.  \n",
    "- **4 – Mostly Complete**: Thorough and addresses most aspects, but leaves a small gap or could use minor additional detail.  \n",
    "- **5 – Fully Complete**: Comprehensive, covering all important aspects of the source with no gaps in explanation.\n",
    "\n",
    "Respond in JSON format:\n",
    "{{\n",
    "\"score\": <number>,\n",
    "\"justification\": \"<reason>\"\n",
    "}}\n",
    "\"\"\"\n",
    ")"
   ]
  },
  {
   "cell_type": "code",
   "execution_count": 43,
   "id": "7af1a772-6ae2-4486-8e9e-47b03ffe4d8f",
   "metadata": {},
   "outputs": [],
   "source": [
    "evaluation_chain = (prompt_template | llm)"
   ]
  },
  {
   "cell_type": "code",
   "execution_count": 45,
   "id": "b5441708-90a9-456e-8560-61e0333b2051",
   "metadata": {},
   "outputs": [],
   "source": [
    "source_text = \"\"\"\n",
    "It is argued that the sports facilities should be increased in number to improve citizens’ health, while others claim that other initiatives are more essential to be conducted. While I support the idea that installing more sports facilities would help ordinary people to enhance their general health, I am more convinced that other effective measures should be taken. \n",
    "\n",
    "On the one hand, people’s general health status could have been improved greatly via exercising. It is proven that working out fastens the amount of oxygen to the brain, helping people be more concentrative and optimistic. Therefore, lack of physical exercise or insufficient physical movements one’s working performance may be impacted and less productive. For example, Hanoi citizens are reported to be healthier than they were because of the availability of exercise equipment right at the local parts. However, I believe that this measure just improves partially not whole the public’s health. \n",
    "\n",
    "On the other hand, there is a wide range of conducts to prevents poor health conditions. Improving diet quality is one of the effective measures that should not be neglected. A good physical health is indeed contributed by many elements, and a full nutrient meal makes consumers stronger and strongly resistant to some diseases. In Vietnam, there used to be a program of introducing milk into daily meals to deter malnutrition for children. After 2 years of conducting this campaign, the number of underweight children was minimised noticeably. Therefore, I completely advocate other solutions to implement to warrant the public’s general health. \n",
    "\n",
    "In conclusion, although launching more sports facilities would benefit the overall health of citizens, I think that this matter could be addressed better by other methods.\n",
    "\"\"\""
   ]
  },
  {
   "cell_type": "code",
   "execution_count": 46,
   "id": "e98c2346-ec29-4765-88fd-0071e0581102",
   "metadata": {},
   "outputs": [],
   "source": [
    "answer_text = \"\"\"\n",
    "According to the author, overall health of citizens could be addressed by other methods because health is influenced by many factors, not just exercise. \n",
    "\"\"\"\n",
    "\n",
    "# answer_text = \"\"\"\n",
    "# According to the author, the overall health of citizens can be addressed by methods other than launching more sports facilities because health depends on multiple factors, not solely on access to exercise. While the author acknowledges that increasing sports facilities can encourage physical activity and improve concentration, optimism, and productivity—as seen in Hanoi, where citizens became healthier due to local exercise equipment—this approach only partially improves public health. \n",
    "\n",
    "# \"\"\""
   ]
  },
  {
   "cell_type": "code",
   "execution_count": 47,
   "id": "8879f40f-c948-4e17-9cc1-9fad11a968a4",
   "metadata": {},
   "outputs": [],
   "source": [
    "result = evaluation_chain.invoke({\"source\": source_text, \"answer\": answer_text})"
   ]
  },
  {
   "cell_type": "code",
   "execution_count": 48,
   "id": "4c0c520c-ddf3-41c0-a088-c391f587e1b2",
   "metadata": {},
   "outputs": [
    {
     "name": "stdout",
     "output_type": "stream",
     "text": [
      "{\n",
      "  \"score\": 3,\n",
      "  \"justification\": \"The ANSWER captures the main idea that health is influenced by multiple factors beyond just exercise, which aligns with the SOURCE's argument. However, it lacks specific details and examples provided in the SOURCE, such as the benefits of exercise, the impact of diet on health, and the specific example of the milk program in Vietnam. This omission of key facts and context results in a moderately complete response.\"\n",
      "}\n"
     ]
    }
   ],
   "source": [
    "print(result.content)"
   ]
  },
  {
   "cell_type": "code",
   "execution_count": null,
   "id": "7b3f9699-ee65-41ee-bf87-1a5f8da789f6",
   "metadata": {},
   "outputs": [],
   "source": []
  }
 ],
 "metadata": {
  "kernelspec": {
   "display_name": "Python (RAG Env)",
   "language": "python",
   "name": "my_venv_name"
  },
  "language_info": {
   "codemirror_mode": {
    "name": "ipython",
    "version": 3
   },
   "file_extension": ".py",
   "mimetype": "text/x-python",
   "name": "python",
   "nbconvert_exporter": "python",
   "pygments_lexer": "ipython3",
   "version": "3.10.12"
  }
 },
 "nbformat": 4,
 "nbformat_minor": 5
}
