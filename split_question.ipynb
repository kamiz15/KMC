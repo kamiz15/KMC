{
 "cells": [
  {
   "cell_type": "code",
   "execution_count": 1,
   "id": "014554f5-68a6-4c94-9683-7db8afc7b85c",
   "metadata": {},
   "outputs": [],
   "source": [
    "from langchain.prompts import PromptTemplate\n",
    "from langchain_openai import ChatOpenAI\n",
    "from langchain.chains import LLMChain"
   ]
  },
  {
   "cell_type": "code",
   "execution_count": 1,
   "id": "a89693d2-65b7-4547-a539-43c3f4db9325",
   "metadata": {},
   "outputs": [],
   "source": [
    "import os\n",
    "os.environ['LANGCHAIN_TRACING_V2'] = 'true'\n",
    "os.environ['LANGCHAIN_ENDPOINT'] = 'https://api.smith.langchain.com'\n",
    "os.environ['LANGCHAIN_API_KEY'] = 'langchain_api_key'"
   ]
  },
  {
   "cell_type": "code",
   "execution_count": 3,
   "id": "c1a304f0-70ee-47ee-a9c5-8374680003ff",
   "metadata": {},
   "outputs": [],
   "source": [
    "os.environ['OPENAI_API_KEY'] = 'openai_api_key' "
   ]
  },
  {
   "cell_type": "code",
   "execution_count": 4,
   "id": "306ce480-e8a3-416e-b61b-2dfca9774065",
   "metadata": {},
   "outputs": [],
   "source": [
    "llm = ChatOpenAI(model_name=\"gpt-4o\", temperature=0)"
   ]
  },
  {
   "cell_type": "code",
   "execution_count": 22,
   "id": "99077852-760d-4034-8d8b-777414e0f2bb",
   "metadata": {},
   "outputs": [],
   "source": [
    "split_prompt = PromptTemplate(\n",
    "    input_variables=[\"question\"],\n",
    "    template=\"\"\"\n",
    "You are an expert question analyzer. \n",
    "You will receive a user question and must:\n",
    "1. Identify if it covers multiple domains.\n",
    "2. If yes, split it into sub-questions, each focusing on one domain from the following list ONLY:\n",
    "(robotics, sports analytics, control systems, street food).\n",
    "3. If it only belongs to one domain, keep it as a single question.\n",
    "\n",
    "## RESULT\n",
    "Return the result in JSON format:\n",
    "{{\n",
    "  \"domains\": [\"domain1\", \"domain2\", ...],\n",
    "  \"sub_questions\": [\"sub-question for domain1\", \"sub-question for domain2\", ...]\n",
    "}}\n",
    "\n",
    "USER QUESTION:\n",
    "{question}\n",
    "\"\"\"\n",
    ")"
   ]
  },
  {
   "cell_type": "code",
   "execution_count": 6,
   "id": "7af1a772-6ae2-4486-8e9e-47b03ffe4d8f",
   "metadata": {},
   "outputs": [],
   "source": [
    "evaluation_chain = (split_prompt | llm)"
   ]
  },
  {
   "cell_type": "code",
   "execution_count": 18,
   "id": "b5441708-90a9-456e-8560-61e0333b2051",
   "metadata": {},
   "outputs": [],
   "source": [
    "# question = \"\"\"\n",
    "# Explain the DH convention and describe how PID controllers are applied in robotic arm motion.\n",
    "# \"\"\"\n",
    "\n",
    "question = \"How do street food vendors influence local economies in developing countries?\""
   ]
  },
  {
   "cell_type": "code",
   "execution_count": 19,
   "id": "8879f40f-c948-4e17-9cc1-9fad11a968a4",
   "metadata": {},
   "outputs": [],
   "source": [
    "result = evaluation_chain.invoke({\"question\": question})"
   ]
  },
  {
   "cell_type": "code",
   "execution_count": 20,
   "id": "4c0c520c-ddf3-41c0-a088-c391f587e1b2",
   "metadata": {},
   "outputs": [
    {
     "name": "stdout",
     "output_type": "stream",
     "text": [
      "```json\n",
      "{\n",
      "  \"domains\": [\"politics of street food\"],\n",
      "  \"sub_questions\": [\"How do street food vendors influence local economies in developing countries?\"]\n",
      "}\n",
      "```\n"
     ]
    }
   ],
   "source": [
    "print(result.content)"
   ]
  },
  {
   "cell_type": "code",
   "execution_count": null,
   "id": "7b3f9699-ee65-41ee-bf87-1a5f8da789f6",
   "metadata": {},
   "outputs": [],
   "source": []
  }
 ],
 "metadata": {
  "kernelspec": {
   "display_name": "Python (RAG Env)",
   "language": "python",
   "name": "my_venv_name"
  },
  "language_info": {
   "codemirror_mode": {
    "name": "ipython",
    "version": 3
   },
   "file_extension": ".py",
   "mimetype": "text/x-python",
   "name": "python",
   "nbconvert_exporter": "python",
   "pygments_lexer": "ipython3",
   "version": "3.10.12"
  }
 },
 "nbformat": 4,
 "nbformat_minor": 5
}
